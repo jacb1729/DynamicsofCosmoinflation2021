{
 "cells": [
  {
   "cell_type": "code",
   "execution_count": 5,
   "metadata": {},
   "outputs": [],
   "source": [
    "import matplotlib.pyplot as py\n",
    "import numpy as np\n",
    "import math"
   ]
  },
  {
   "cell_type": "markdown",
   "metadata": {},
   "source": [
    "$M_{pl} = 1$, potentials $V = V_0\\phi^k$, $H_0 = 2.5\\times10^{-5}$ simulating $H$ trajectories using HJ formalism, so $\\frac{dH}{d\\phi} = \\sqrt{1.5H^2 - 0.5V}$"
   ]
  },
  {
   "cell_type": "code",
   "execution_count": 26,
   "metadata": {},
   "outputs": [],
   "source": [
    "def trajectory(V_0, k, phi_0, dphi = 0.00001, boundmultiplier = 100, epsilon_skip = False, H0 = 2.5e-5):\n",
    "    T =  int(phi_0/dphi)\n",
    "    phi = [phi_0 - dummy for dummy in np.linspace(0, phi_0, boundmultiplier*T+1)]   #mesh for phi\n",
    "    H = np.zeros(boundmultiplier*T+1)\n",
    "    H[0]  = H0\n",
    "    epsilon = 0\n",
    "    n = 0\n",
    "    #SPACE\n",
    "    while ((epsilon < 1) or (epsilon_skip)) and (n < boundmultiplier*T):\n",
    "        K1 = (1.5*(H[n]**2) - 0.5*V_0*(phi[n])**k)**0.5\n",
    "        K2 = (1.5*((H[n] - 0.5*dphi*K1)**2) - 0.5*V_0*(phi[n] - 0.5*dphi)**k)**0.5\n",
    "        K3 = (1.5*((H[n] - 0.5*dphi*K2)**2) - 0.5*V_0*(phi[n] - 0.5*dphi)**k)**0.5\n",
    "        K4 = (1.5*((H[n] - dphi*K3)**2) - 0.5*V_0*(phi[n] - dphi)**k)**0.5\n",
    "        grad = (K1 + 2*K2 + 2*K3 + K4)/6\n",
    "        H[n+1] = H[n] - dphi*grad\n",
    "        if np.isnan(((H[n+1]**2) - 0.5*V_0*(phi[n+1])**k)/(H[n+1]**2)):\n",
    "            break\n",
    "        epsilon = 2*(1.5*(H[n+1]**2) - 0.5*V_0*(phi[n+1])**k)/(H[n+1]**2)\n",
    "        n += 1\n",
    "    return phi[0:n+1], H[0:n+1], n, epsilon"
   ]
  },
  {
   "cell_type": "code",
   "execution_count": null,
   "metadata": {},
   "outputs": [],
   "source": []
  },
  {
   "cell_type": "code",
   "execution_count": null,
   "metadata": {},
   "outputs": [],
   "source": []
  },
  {
   "cell_type": "code",
   "execution_count": 22,
   "metadata": {},
   "outputs": [
    {
     "data": {
      "text/plain": [
       "15.556349186104045"
      ]
     },
     "execution_count": 22,
     "metadata": {},
     "output_type": "execute_result"
    }
   ],
   "source": [
    "242**0.5"
   ]
  },
  {
   "cell_type": "code",
   "execution_count": 23,
   "metadata": {},
   "outputs": [
    {
     "data": {
      "text/plain": [
       "8.608815426997245e-13"
      ]
     },
     "execution_count": 23,
     "metadata": {},
     "output_type": "execute_result"
    }
   ],
   "source": [
    "(2.5e-5)**2/(242*3) #Slow roll V_0"
   ]
  },
  {
   "cell_type": "code",
   "execution_count": 27,
   "metadata": {},
   "outputs": [
    {
     "name": "stderr",
     "output_type": "stream",
     "text": [
      "C:\\Users\\Jacob\\Anaconda3\\lib\\site-packages\\ipykernel_launcher.py:10: RuntimeWarning: invalid value encountered in double_scalars\n",
      "  # Remove the CWD from sys.path while we load stuff.\n"
     ]
    },
    {
     "name": "stdout",
     "output_type": "stream",
     "text": [
      "n = 34860\n",
      "ε = -6.617574069516072e-09\n"
     ]
    },
    {
     "data": {
      "image/png": "[encoded data removed]",
      "text/plain": [
       "<Figure size 432x288 with 1 Axes>"
      ]
     },
     "metadata": {
      "needs_background": "light"
     },
     "output_type": "display_data"
    }
   ],
   "source": [
    "phi, H, n, epsilon = trajectory(7e-12, 2, 15)\n",
    "py.plot(phi, H, label='H')\n",
    "py.xlabel('ϕ')\n",
    "py.legend()\n",
    "print(\"n =\", n, end = '\\n')\n",
    "print(\"ε =\", epsilon)"
   ]
  },
  {
   "cell_type": "code",
   "execution_count": 23,
   "metadata": {},
   "outputs": [
    {
     "data": {
      "text/plain": [
       "[<matplotlib.lines.Line2D at 0x18f32f69fd0>]"
      ]
     },
     "execution_count": 23,
     "metadata": {},
     "output_type": "execute_result"
    },
    {
     "data": {
      "image/png": "[encoded data removed]",
      "text/plain": [
       "<Figure size 432x288 with 1 Axes>"
      ]
     },
     "metadata": {
      "needs_background": "light"
     },
     "output_type": "display_data"
    }
   ],
   "source": [
    "V0 = 7e-12\n",
    "H0 = 2.5e-5\n",
    "C = math.atanh((1-(V0*(15)**2)/(3*(H0)**2))**0.5) - ((3/2)**0.5)*(15 - 2*np.log(15))\n",
    "\n",
    "phi = np.linspace(14.98, 15, 1001)\n",
    "H = [((1/3)*((V0*(ϕ)**2)/(1 - (math.tanh(((3/2)**0.5)*(ϕ - 2*np.log(ϕ)) + C)**2))))**0.5 for ϕ in phi]\n",
    "\n",
    "py.plot(phi, H)"
   ]
  },
  {
   "cell_type": "code",
   "execution_count": 10,
   "metadata": {},
   "outputs": [
    {
     "data": {
      "text/plain": [
       "numpy.float64"
      ]
     },
     "execution_count": 10,
     "metadata": {},
     "output_type": "execute_result"
    }
   ],
   "source": [
    "type(epsilon)"
   ]
  },
  {
   "cell_type": "code",
   "execution_count": 4,
   "metadata": {},
   "outputs": [],
   "source": [
    "from tabulate import tabulate"
   ]
  },
  {
   "cell_type": "code",
   "execution_count": 5,
   "metadata": {},
   "outputs": [
    {
     "name": "stderr",
     "output_type": "stream",
     "text": [
      "C:\\Users\\Jacob\\Anaconda3\\lib\\site-packages\\ipykernel_launcher.py:9: RuntimeWarning: invalid value encountered in double_scalars\n",
      "  if __name__ == '__main__':\n"
     ]
    },
    {
     "name": "stdout",
     "output_type": "stream",
     "text": [
      "\n"
     ]
    }
   ],
   "source": [
    "data = []\n",
    "for num in range(10, 16):\n",
    "    nlast = False\n",
    "    for x in [7.0 + n for n in np.linspace(0, 3.0,301)]:\n",
    "        _1, _2, n, _3 = trajectory(x*1.0e-11, 1, phi_0 = num)\n",
    "        if n == 1:\n",
    "            if nlast == True:\n",
    "                data.append([num, x])\n",
    "                break\n",
    "            else:\n",
    "                continue\n",
    "        nlast = True\n",
    "        \n",
    "print(tabulate(data))"
   ]
  },
  {
   "cell_type": "code",
   "execution_count": null,
   "metadata": {},
   "outputs": [],
   "source": [
    "for num in range(16, 20):\n",
    "    nlast = False\n",
    "    for x in [7.0 + n for n in np.linspace(0, 3.0,301)]:\n",
    "        _1, _2, n, _3 = trajectory(x*1.0e-11, 1, phi_0 = num)\n",
    "        if n == 1:\n",
    "            if nlast == True:\n",
    "                data.append([num, x])\n",
    "                break\n",
    "            else:\n",
    "                continue\n",
    "        nlast = True\n",
    "        \n",
    "print(tabulate(data))"
   ]
  },
  {
   "cell_type": "code",
   "execution_count": 6,
   "metadata": {},
   "outputs": [
    {
     "name": "stdout",
     "output_type": "stream",
     "text": [
      "ϕ_60    A good value of V_0 x 10^10\n",
      "------  -----------------------------\n"
     ]
    }
   ],
   "source": [
    "import json\n",
    "with open('v0_and_phi_table.txt', 'w') as f:\n",
    "    f.write(json.dumps(data))\n",
    "\n",
    "#Now read the file back into a Python list object\n",
    "with open('v0_and_phi_table.txt', 'r') as f:\n",
    "    table = json.loads(f.read())\n",
    "    \n",
    "print(tabulate(table, headers = [\"ϕ_60\",\"A good value of V_0 x 10^10\"]))"
   ]
  },
  {
   "cell_type": "code",
   "execution_count": null,
   "metadata": {},
   "outputs": [],
   "source": [
    "for x in table:\n",
    "    py.plot(x[0], x[1], 'r*')"
   ]
  },
  {
   "cell_type": "code",
   "execution_count": 28,
   "metadata": {},
   "outputs": [
    {
     "data": {
      "text/plain": [
       "[]"
      ]
     },
     "execution_count": 28,
     "metadata": {},
     "output_type": "execute_result"
    }
   ],
   "source": [
    "data"
   ]
  },
  {
   "cell_type": "markdown",
   "metadata": {},
   "source": [
    "We had been choosing random initial $\\phi_0$. Now we will check corresponding $N$ values integrate backwards while $N < N_{\\mathrm{start}} \\approx 60$\n",
    "\n",
    "$N = \\frac{1}{2}\\int^{\\phi_N}_{\\phi_0}\\sqrt{\\frac{2}{\\varepsilon}} d\\phi$"
   ]
  },
  {
   "cell_type": "code",
   "execution_count": null,
   "metadata": {},
   "outputs": [],
   "source": []
  },
  {
   "cell_type": "code",
   "execution_count": 26,
   "metadata": {},
   "outputs": [],
   "source": [
    "\n",
    "\n",
    "def init_phi(Nstart, V_0, k, phi_0 = 10, dphi = 0.0001, boundmultiplier = 100, epsilon_skip = False, H0 = 2.5e-5):\n",
    "    T = int(phi_0/dphi)\n",
    "    phi, J, _, epsilon = trajectory(V_0, k, phi_0, dphi, boundmultiplier, epsilon_skip, H0)\n",
    "    N = 0\n",
    "    phi = phi[-1]\n",
    "    H = J[-1]\n",
    "    ε = np.zeros(boundmultiplier*T + 1)\n",
    "    ε[0] = epsilon\n",
    "    n = 0\n",
    "    while (N < Nstart) and (n < boundmultiplier*T):\n",
    "        K1 = (1.5*(H**2) - 0.5*V_0*(phi)**k)**0.5\n",
    "        K2 = (1.5*((H + 0.5*dphi*K1)**2) - 0.5*V_0*(phi + 0.5*dphi)**k)**0.5\n",
    "        K3 = (1.5*((H + 0.5*dphi*K2)**2) - 0.5*V_0*(phi + 0.5*dphi)**k)**0.5\n",
    "        K4 = (1.5*((H + dphi*K3)**2) - 0.5*V_0*(phi + dphi)**k)**0.5\n",
    "        grad = (K1 + 2*K2 + 2*K3 + K4)/6\n",
    "        H += dphi*grad\n",
    "        if not isinstance((1.5*(H**2) - 0.5*V_0*(phi+dphi)**k)/(H**2), float):\n",
    "            break\n",
    "        ε[n+1] = 0.5*(1.5*(H**2) + 0.5*V_0*(phi+dphi)**k)/(H**2)\n",
    "        #SPACE\n",
    "        J1 = (2 / ε[n])**0.5\n",
    "        J2 = (2 / ε[n+1])**0.5\n",
    "        N += dphi*(J1 + J2)/4\n",
    "        n += 1\n",
    "        phi += dphi\n",
    "    return phi, N, H"
   ]
  },
  {
   "cell_type": "code",
   "execution_count": 21,
   "metadata": {},
   "outputs": [
    {
     "data": {
      "text/plain": [
       "(33.391799000006586, 60.000294392137285, 147585.21804776587)"
      ]
     },
     "execution_count": 21,
     "metadata": {},
     "output_type": "execute_result"
    }
   ],
   "source": [
    "init_phi(60, 8e-13, 2, phi_0 = 15)"
   ]
  },
  {
   "cell_type": "markdown",
   "metadata": {},
   "source": [
    "We have been choosing $H_0 =  2.5\\times10^{-5}$. If we want to continue this, we need to scale the Hamilton Jacobi equation so that $V_0 \\rightarrow \\frac{V_0}{H_0^2}$ or change $H_0$ "
   ]
  },
  {
   "cell_type": "code",
   "execution_count": 27,
   "metadata": {},
   "outputs": [],
   "source": [
    "def tot_traj(Nstart, V_0, k, phi_0 = 10, dphi = 0.0001, boundmultiplier = 100, epsilon_skip = False, H0 = 2.5e-5):\n",
    "    initphi, _, H0 = init_phi(Nstart, V_0, k, phi_0, dphi, boundmultiplier, epsilon_skip, H0)\n",
    "    phi, H, n, epsilon = trajectory(V_0/(H0**2), k, initphi, dphi, boundmultiplier, epsilon_skip, H0)\n",
    "    return phi, (H0**2)*H, n, epsilon, V_0/(H0**2)"
   ]
  },
  {
   "cell_type": "code",
   "execution_count": 28,
   "metadata": {},
   "outputs": [
    {
     "name": "stdout",
     "output_type": "stream",
     "text": [
      "n = 1\n",
      "ε = 3.0\n"
     ]
    },
    {
     "data": {
      "image/png": "[encoded data removed]",
      "text/plain": [
       "<Figure size 432x288 with 1 Axes>"
      ]
     },
     "metadata": {
      "needs_background": "light"
     },
     "output_type": "display_data"
    }
   ],
   "source": [
    "phi, H, n, epsilon, _ = tot_traj(60, 8e-13, 2, phi_0 = 33.4, H0 = 147585)\n",
    "py.plot(phi, H, label='H')\n",
    "py.xlabel('ϕ')\n",
    "py.legend()\n",
    "print(\"n =\", n, end = '\\n')\n",
    "print(\"ε =\", epsilon)"
   ]
  },
  {
   "cell_type": "markdown",
   "metadata": {},
   "source": [
    "I now try to narrow down some sensible $\\phi_0$ values"
   ]
  },
  {
   "cell_type": "code",
   "execution_count": null,
   "metadata": {},
   "outputs": [],
   "source": [
    "S = []\n",
    "for x in [2.3 + n for n in np.linspace(-0.1, 0.1, 101)]:\n",
    "    _1, _2, n, _3 = tot_traj(60, 1, 1, phi_0 = x)\n",
    "    S.append(n)\n",
    "m = max(S)\n",
    "for i, x in enumerate(S):\n",
    "    if x == m:\n",
    "        print(i)\n",
    "        break"
   ]
  },
  {
   "cell_type": "code",
   "execution_count": null,
   "metadata": {},
   "outputs": [],
   "source": []
  },
  {
   "cell_type": "code",
   "execution_count": null,
   "metadata": {},
   "outputs": [],
   "source": []
  },
  {
   "cell_type": "code",
   "execution_count": null,
   "metadata": {},
   "outputs": [],
   "source": []
  }
 ],
 "metadata": {
  "kernelspec": {
   "display_name": "Python 3",
   "language": "python",
   "name": "python3"
  },
  "language_info": {
   "codemirror_mode": {
    "name": "ipython",
    "version": 3
   },
   "file_extension": ".py",
   "mimetype": "text/x-python",
   "name": "python",
   "nbconvert_exporter": "python",
   "pygments_lexer": "ipython3",
   "version": "3.7.3"
  }
 },
 "nbformat": 4,
 "nbformat_minor": 2
}
