{
 "cells": [
  {
   "cell_type": "code",
   "execution_count": 5,
   "metadata": {},
   "outputs": [],
   "source": [
    "import matplotlib.pyplot as py\n",
    "import numpy as np\n",
    "import getdist as gs"
   ]
  },
  {
   "cell_type": "markdown",
   "metadata": {},
   "source": [
    "$1^{\\mathrm{st}}$ approx"
   ]
  },
  {
   "cell_type": "code",
   "execution_count": 2,
   "metadata": {},
   "outputs": [],
   "source": [
    "Nrange = [N for N in range(60, 71)]\n",
    "ns1 = []\n",
    "r1 = []\n",
    "\n",
    "for x in Nrange:\n",
    "    r1.append(8/(x+0.5))\n",
    "    ns1.append(1- (2/(x+0.5)))"
   ]
  },
  {
   "cell_type": "markdown",
   "metadata": {},
   "source": [
    "$2^{nd}$ approximation"
   ]
  },
  {
   "cell_type": "code",
   "execution_count": 3,
   "metadata": {},
   "outputs": [],
   "source": [
    "ns2 = []\n",
    "r2 = []\n",
    "\n",
    "for x in Nrange:\n",
    "    r2.append(8/(x+0.5))\n",
    "    ns2.append(1- (5/(x-0.5)))"
   ]
  },
  {
   "cell_type": "code",
   "execution_count": 4,
   "metadata": {},
   "outputs": [
    {
     "data": {
      "text/plain": [
       "<matplotlib.legend.Legend at 0x180038f90f0>"
      ]
     },
     "execution_count": 4,
     "metadata": {},
     "output_type": "execute_result"
    },
    {
     "data": {
      "image/png": "[encoded data removed]",
      "text/plain": [
       "<Figure size 432x288 with 1 Axes>"
      ]
     },
     "metadata": {
      "needs_background": "light"
     },
     "output_type": "display_data"
    }
   ],
   "source": [
    "py.plot(ns1, r1, label = \"$1^{st} \\mathrm{approx}$\")\n",
    "py.scatter(ns1, r1, c = 'g')\n",
    "py.ylabel('$r$')\n",
    "py.xlabel('$n_s$')\n",
    "py.plot(ns1[0], r1[0], 'r*', label = 'N = 60')\n",
    "\n",
    "py.plot(ns2, r2, label = \"$2^{nd} \\mathrm{approx}$\")\n",
    "py.scatter(ns2, r2, c = 'k')\n",
    "py.ylabel('$r$')\n",
    "py.xlabel('$n_s$')\n",
    "py.plot(ns2[0], r2[0], 'b*', label = 'N = 60 $2^{nd}$')\n",
    "\n",
    "py.legend()"
   ]
  },
  {
   "cell_type": "markdown",
   "metadata": {},
   "source": [
    "The first approximation looks better"
   ]
  },
  {
   "cell_type": "markdown",
   "metadata": {},
   "source": [
    "# Using Plank data"
   ]
  },
  {
   "cell_type": "code",
   "execution_count": 6,
   "metadata": {},
   "outputs": [],
   "source": [
    "import os"
   ]
  },
  {
   "cell_type": "code",
   "execution_count": 14,
   "metadata": {},
   "outputs": [
    {
     "name": "stdout",
     "output_type": "stream",
     "text": [
      "dirs = ['plikHM_TTTEEE_lowl_lowE', 'plikHM_TTTEEE_lowl_lowE_lensing']\n",
      "\n",
      "The first file returned in plikHM_TTTEEE_lowl_lowE is base_plikHM_TTTEEE_lowl_lowE.converge_stat\n",
      "The first file returned in plikHM_TTTEEE_lowl_lowE_lensing is base_plikHM_TTTEEE_lowl_lowE_lensing.converge_stat\n"
     ]
    }
   ],
   "source": [
    "#paths are written as the following\n",
    "pathbase = \"C:/Users/Jacob/Documents/Seemingly important stuff/COM_CosmoParams_base-plikHM-TTTEEE-lowl-lowE_R3.00/base\"\n",
    "dirs = os.listdir(pathbase)\n",
    "#os.listdir returns a list of strings\n",
    "print(\"dirs =\", dirs, end = '\\n\\n')\n",
    "for folder in dirs:\n",
    "    print(\"The first file returned in %s is\"%folder, os.listdir(os.path.join(pathbase, folder))[0])"
   ]
  },
  {
   "cell_type": "code",
   "execution_count": null,
   "metadata": {},
   "outputs": [],
   "source": []
  },
  {
   "cell_type": "code",
   "execution_count": null,
   "metadata": {},
   "outputs": [],
   "source": [
    "rootname = os.path.join(tempdir, 'testchain')\n",
    "#now we save the sample data as testchain, callable locally by rootname\n",
    "samples.saveAsText(rootname)"
   ]
  },
  {
   "cell_type": "code",
   "execution_count": null,
   "metadata": {},
   "outputs": [],
   "source": [
    "from getdist import loadMCSamples\n",
    "readsamps = loadMCSamples(rootname)"
   ]
  },
  {
   "cell_type": "code",
   "execution_count": null,
   "metadata": {},
   "outputs": [],
   "source": []
  },
  {
   "cell_type": "code",
   "execution_count": null,
   "metadata": {},
   "outputs": [],
   "source": []
  },
  {
   "cell_type": "code",
   "execution_count": null,
   "metadata": {},
   "outputs": [],
   "source": []
  },
  {
   "cell_type": "code",
   "execution_count": null,
   "metadata": {},
   "outputs": [],
   "source": []
  }
 ],
 "metadata": {
  "kernelspec": {
   "display_name": "Python 3",
   "language": "python",
   "name": "python3"
  },
  "language_info": {
   "codemirror_mode": {
    "name": "ipython",
    "version": 3
   },
   "file_extension": ".py",
   "mimetype": "text/x-python",
   "name": "python",
   "nbconvert_exporter": "python",
   "pygments_lexer": "ipython3",
   "version": "3.7.3"
  }
 },
 "nbformat": 4,
 "nbformat_minor": 2
}
