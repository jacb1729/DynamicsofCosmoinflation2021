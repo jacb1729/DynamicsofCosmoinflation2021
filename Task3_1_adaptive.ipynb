{
 "cells": [
  {
   "cell_type": "code",
   "execution_count": 32,
   "metadata": {},
   "outputs": [],
   "source": [
    "import matplotlib.pyplot as py\n",
    "import numpy as np\n"
   ]
  },
  {
   "cell_type": "markdown",
   "metadata": {},
   "source": [
    "$M_{pl} = 1$, potentials $V = V_0\\phi^k$, $H_0 = 2.5\\times10^{-5} M_{pl}$ simulating $H$ trajectories using HJ formalism, so $\\frac{dH}{d\\phi} = \\sqrt{1.5H^2 - 0.5V}$"
   ]
  },
  {
   "cell_type": "markdown",
   "metadata": {},
   "source": [
    "I'd like to ensure $\\phi > 0$. A quick check of the $H'$ vector field in the $\\phi, H$ plane near the $\\sqrt{\\frac{1}{3}V}$ contour shows that $H'$ is a small, positive, number, so the vector field points such that as $\\phi$ decreases the true $H$ trajectory can not intersect the $H = \\sqrt{\\frac{1}{3}V}$ contour. Hence, $\\varepsilon < 0$ errors are artifacts of the scheme we were employing until now. We should be able to use an adaptive scheme to ensure this. "
   ]
  },
  {
   "cell_type": "code",
   "execution_count": 33,
   "metadata": {},
   "outputs": [],
   "source": [
    "grad_calc = lambda H, V0, phi, k: (1.5*(H**2) - 0.5*V0*(phi**k))**0.5\n",
    "epsilon_calc = lambda  H, V0, phi, k: 2*(1.5*(H**2) - 0.5*V0*(phi**k))/(H**2)"
   ]
  },
  {
   "cell_type": "code",
   "execution_count": 34,
   "metadata": {},
   "outputs": [],
   "source": [
    "def trajectory(V_0, k, phi_0, dphi0 = 0.0001, boundmultiplier = 100, H0 = 2.5e-5):\n",
    "    if not (3*(H0**2)/((phi_0)**k) > V_0 > 2*(H0**2)/((phi_0)**k)):\n",
    "        raise Exception(\"wrong parameter choice\")\n",
    "    T =  int(phi_0/dphi0)\n",
    "    phi = np.zeros(boundmultiplier*T+1)  #adapting mesh for phi\n",
    "    H = np.zeros(boundmultiplier*T+1)\n",
    "    phi[0] = phi_0\n",
    "    H[0]  = H0\n",
    "    epsilon = epsilon_calc(H[0], V_0, phi[0], k)\n",
    "    n = 0\n",
    "    dphi = dphi0\n",
    "    #SPACE\n",
    "    while (epsilon < 1) and (n < boundmultiplier*T):\n",
    "        K1 = grad_calc(H[n], V_0, phi[n], k)\n",
    "        K2 = grad_calc(H[n] - 0.5*dphi*K1, V_0, phi[n] - 0.5*dphi, k)\n",
    "        K3 = grad_calc(H[n] - 0.5*dphi*K2, V_0, phi[n] - 0.5*dphi, k)\n",
    "        K4 = grad_calc(H[n] - dphi*K3, V_0, phi[n] - dphi, k)\n",
    "        grad = (K1 + 2*K2 + 2*K3 + K4)/6\n",
    "        H[n+1] = H[n] - dphi*grad\n",
    "        phi[n+1] = phi[n] - dphi\n",
    "        epsilon = epsilon_calc(H[n+1], V_0, phi[n+1], k)\n",
    "        dphi = min(0.9*(H[n+1] - ((V_0*(phi[n+1])**k)*(1/3))**0.5)/(grad_calc(H[n+1], V_0, phi[n+1], k)), dphi0)\n",
    "        n += 1\n",
    "    return phi[0:n+1], H[0:n+1], n, epsilon"
   ]
  },
  {
   "cell_type": "code",
   "execution_count": null,
   "metadata": {},
   "outputs": [],
   "source": [
    "242**0.5"
   ]
  },
  {
   "cell_type": "code",
   "execution_count": null,
   "metadata": {},
   "outputs": [],
   "source": [
    "(2.5e-5)**2/(242*3) #Slow roll V_0"
   ]
  },
  {
   "cell_type": "code",
   "execution_count": null,
   "metadata": {},
   "outputs": [],
   "source": [
    "#Select V_0\n",
    "2.5*((2.5e-5)**2)/((15)**2)"
   ]
  },
  {
   "cell_type": "code",
   "execution_count": 35,
   "metadata": {},
   "outputs": [
    {
     "name": "stdout",
     "output_type": "stream",
     "text": [
      "n = 139907\n",
      "ε = 1.0000484484144083\n"
     ]
    },
    {
     "data": {
      "image/png": "[encoded data removed]",
      "text/plain": [
       "<Figure size 432x288 with 1 Axes>"
      ]
     },
     "metadata": {
      "needs_background": "light"
     },
     "output_type": "display_data"
    }
   ],
   "source": [
    "phi, H, n, epsilon = trajectory(6.944e-12, 2, 15)\n",
    "py.plot(phi, H, label='H')\n",
    "py.xlabel('ϕ')\n",
    "py.legend()\n",
    "print(\"n =\", n, end = '\\n')\n",
    "print(\"ε =\", epsilon)"
   ]
  },
  {
   "cell_type": "markdown",
   "metadata": {},
   "source": [
    "We had been choosing random initial $\\phi_0$. Now we will check corresponding $N$ values integrate backwards while $N < N_{\\mathrm{start}} \\approx 60$\n",
    "\n",
    "$N = \\frac{1}{2}\\int^{\\phi_N}_{\\phi_0}\\sqrt{\\frac{2}{\\varepsilon}} d\\phi$"
   ]
  },
  {
   "cell_type": "code",
   "execution_count": 38,
   "metadata": {},
   "outputs": [
    {
     "data": {
      "text/plain": [
       "[5, 4, 3, 2, 1]"
      ]
     },
     "execution_count": 38,
     "metadata": {},
     "output_type": "execute_result"
    }
   ],
   "source": [
    "listy = [1, 2, 3, 4, 5]\n",
    "listy[0:2] = [1, 2]\n",
    "listy[::-1]"
   ]
  },
  {
   "cell_type": "code",
   "execution_count": 42,
   "metadata": {},
   "outputs": [],
   "source": [
    "def tot_traj(Nstart, V_0, k, phi_0 = 10, dphi0 = 0.0001, boundmultiplier = 100, H0 = 2.5e-5):\n",
    "    T = int(phi_0/dphi0)\n",
    "    phiswap, Jswap, n0, epsilon = trajectory(V_0, k, phi_0, dphi0, boundmultiplier, H0)\n",
    "    phi1, J1 = phiswap[::-1], Jswap[::-1]\n",
    "    N = 0\n",
    "    phi = np.zeros(boundmultiplier*T + 1)\n",
    "    H = np.zeros(boundmultiplier*T + 1)\n",
    "    ε = np.zeros(boundmultiplier*T + 1)\n",
    "    phi[:n0 + 1] = phi1\n",
    "    H[:n0 + 1] = J1\n",
    "    ε[0] = epsilon\n",
    "    n = 0\n",
    "    while (N < Nstart) and (n < n0):\n",
    "        dphi = phi[n+1] - phi[n]\n",
    "        ε[n+1] = epsilon_calc(H[n+1], V_0, phi[n+1], k)\n",
    "        J1 = (2 / ε[n])**0.5\n",
    "        J2 = (2 / ε[n+1])**0.5\n",
    "        N += dphi*(J1 + J2)/4\n",
    "        n += 1\n",
    "    #Space\n",
    "    while (N < Nstart) and (n < boundmultiplier*T):\n",
    "        dphi = min(0.5*(H[n] - ((V_0*(phi[n])**k)*(1/3))**0.5)/(grad_calc(H[n], V_0, phi[n], k)), dphi0)\n",
    "        K1 = grad_calc(H[n], V_0, phi[n], k)\n",
    "        K2 = grad_calc(H[n] + 0.5*dphi*K1, V_0, phi[n] + 0.5*dphi, k)\n",
    "        K3 = grad_calc(H[n] + 0.5*dphi*K2, V_0, phi[n] + 0.5*dphi, k)\n",
    "        K4 = grad_calc(H[n] + dphi*K3, V_0, phi[n] + dphi, k)\n",
    "        grad = (K1 + 2*K2 + 2*K3 + K4)/6\n",
    "        H[n+1] = H[n] + dphi*grad\n",
    "        phi[n+1] = phi[n] + dphi\n",
    "        ε[n+1] = epsilon_calc(H[n+1], V_0, phi[n+1], k)\n",
    "        #SPACE\n",
    "        J1 = (2 / ε[n])**0.5\n",
    "        J2 = (2 / ε[n+1])**0.5\n",
    "        N += dphi*(J1 + J2)/4\n",
    "        n += 1\n",
    "    return phi[:n+1], H[:n+1], n, ε[:n+1], N"
   ]
  },
  {
   "cell_type": "markdown",
   "metadata": {},
   "source": [
    "We have been choosing $H_0 =  2.5\\times10^{-5}$. If we want to continue this, we need to scale the Hamilton Jacobi equation so that $V_0 \\rightarrow \\frac{V_0}{H_0^2}$ or change $H_0$ "
   ]
  },
  {
   "cell_type": "code",
   "execution_count": 28,
   "metadata": {},
   "outputs": [],
   "source": []
  },
  {
   "cell_type": "code",
   "execution_count": 47,
   "metadata": {},
   "outputs": [
    {
     "name": "stdout",
     "output_type": "stream",
     "text": [
      "n = 147928\n",
      "N = 55.00003246166071\n",
      "ε = [1.00004845 0.99993499 0.99982156 ... 2.27397025 2.27411588 2.27426149]\n",
      "Full trajectory not available via this method\n"
     ]
    },
    {
     "data": {
      "image/png": "[encoded data removed]",
      "text/plain": [
       "<Figure size 432x288 with 1 Axes>"
      ]
     },
     "metadata": {
      "needs_background": "light"
     },
     "output_type": "display_data"
    }
   ],
   "source": [
    "phi, H, n, epsilon, N = tot_traj(55, 6.944e-12, 2, phi_0 = 15)\n",
    "py.plot(phi, H, label='H')\n",
    "py.xlabel('ϕ')\n",
    "py.legend()\n",
    "print(\"n =\", n, end = '\\n')\n",
    "print(\"N =\", N, end = '\\n')\n",
    "print(\"ε =\", epsilon)\n",
    "for el in epsilon:\n",
    "    if el >1:\n",
    "        print(\"Full trajectory not available via this method\")\n",
    "        break"
   ]
  },
  {
   "cell_type": "code",
   "execution_count": 41,
   "metadata": {},
   "outputs": [
    {
     "data": {
      "text/plain": [
       "0.0"
      ]
     },
     "execution_count": 41,
     "metadata": {},
     "output_type": "execute_result"
    }
   ],
   "source": [
    "H[n+1]"
   ]
  },
  {
   "cell_type": "code",
   "execution_count": null,
   "metadata": {},
   "outputs": [],
   "source": []
  },
  {
   "cell_type": "code",
   "execution_count": null,
   "metadata": {},
   "outputs": [],
   "source": []
  }
 ],
 "metadata": {
  "kernelspec": {
   "display_name": "Python 3",
   "language": "python",
   "name": "python3"
  },
  "language_info": {
   "codemirror_mode": {
    "name": "ipython",
    "version": 3
   },
   "file_extension": ".py",
   "mimetype": "text/x-python",
   "name": "python",
   "nbconvert_exporter": "python",
   "pygments_lexer": "ipython3",
   "version": "3.7.3"
  }
 },
 "nbformat": 4,
 "nbformat_minor": 2
}
