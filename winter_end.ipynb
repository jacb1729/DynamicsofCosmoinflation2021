{
 "cells": [
  {
   "cell_type": "code",
   "execution_count": 1,
   "metadata": {},
   "outputs": [],
   "source": [
    "import matplotlib.pyplot as py\n",
    "import numpy as np"
   ]
  },
  {
   "cell_type": "markdown",
   "metadata": {},
   "source": [
    "$M_{pl} = 1$, potentials $V = V_0\\phi^k$, $H_{60} = 2.5\\times10^{-5} M_{pl}$ simulating $H$ trajectories using HJ formalism, so $\\frac{dH}{d\\phi} = \\sqrt{1.5H^2 - 0.5V}$"
   ]
  },
  {
   "cell_type": "markdown",
   "metadata": {},
   "source": [
    "I'd like to ensure $\\varepsilon > 0$. A quick check of the $H'$ vector field in the $\\phi, H$ plane near the $\\sqrt{\\frac{1}{3}V}$ contour shows that $H'$ is a small, positive, number, so the vector field points such that as $\\phi$ decreases the true $H$ trajectory can not intersect the $H = \\sqrt{\\frac{1}{3}V}$ contour. Hence, $\\varepsilon < 0$ errors are artifacts of the scheme we were employing until now. We should be able to use an adaptive scheme to ensure this. "
   ]
  },
  {
   "cell_type": "code",
   "execution_count": 2,
   "metadata": {},
   "outputs": [],
   "source": [
    "grad_calc = lambda H, V0, phi, k: (1.5*(H**2) - 0.5*V0*(phi**k))**0.5\n",
    "epsilon_calc = lambda  H, V0, phi, k: 2*(1.5*(H**2) - 0.5*V0*(phi**k))/(H**2)"
   ]
  },
  {
   "cell_type": "markdown",
   "metadata": {},
   "source": [
    "The scheme employed below will ensure $\\varepsilon >0$ provided the section of $H$ trajectory considered is convex as a function of $\\phi$ "
   ]
  },
  {
   "cell_type": "markdown",
   "metadata": {},
   "source": [
    "We scale $H_0 \\rightarrow H_0 \\times 10^5 = \\tilde{H_0}$, $V_0 \\rightarrow V_0 \\times 10^{10} = \\tilde{V_0}$"
   ]
  },
  {
   "cell_type": "code",
   "execution_count": 7,
   "metadata": {},
   "outputs": [],
   "source": [
    "def trajectory(V_0, k, phi_0, dphi0 = 0.00001, boundmultiplier = 100, H0 = 2.5, suppress = False):\n",
    "    if not (3*(H0**2)/((phi_0)**k) > V_0 > 2*(H0**2)/((phi_0)**k) or suppress):\n",
    "        raise Exception(\"wrong parameter choice\")\n",
    "    T =  int(phi_0/dphi0)\n",
    "    phi = np.zeros(boundmultiplier*T+1)  #adapting mesh for phi\n",
    "    H = np.zeros(boundmultiplier*T+1)\n",
    "    phi[0] = phi_0\n",
    "    H[0]  = H0\n",
    "    epsilon = epsilon_calc(H[0], V_0, phi[0], k)\n",
    "    n = 0\n",
    "    dphi = dphi0\n",
    "    #SPACE\n",
    "    while (epsilon < 1) and (n < boundmultiplier*T):\n",
    "        K1 = grad_calc(H[n], V_0, phi[n], k)\n",
    "        K2 = grad_calc(H[n] - 0.5*dphi*K1, V_0, phi[n] - 0.5*dphi, k)\n",
    "        K3 = grad_calc(H[n] - 0.5*dphi*K2, V_0, phi[n] - 0.5*dphi, k)\n",
    "        K4 = grad_calc(H[n] - dphi*K3, V_0, phi[n] - dphi, k)\n",
    "        grad = (K1 + 2*K2 + 2*K3 + K4)/6\n",
    "        H[n+1] = H[n] - dphi*grad\n",
    "        phi[n+1] = phi[n] - dphi\n",
    "        epsilon = epsilon_calc(H[n+1], V_0, phi[n+1], k)\n",
    "        dphi = min(0.9*(H[n+1] - ((V_0*(phi[n+1])**k)*(1/3))**0.5)/(grad_calc(H[n+1], V_0, phi[n+1], k)), dphi0)\n",
    "        n += 1\n",
    "    return phi[0:n+1], H[0:n+1], n, epsilon"
   ]
  },
  {
   "cell_type": "code",
   "execution_count": null,
   "metadata": {},
   "outputs": [],
   "source": [
    "(2.5e-5)**2/(242*3) #Slow roll V_0"
   ]
  },
  {
   "cell_type": "code",
   "execution_count": null,
   "metadata": {},
   "outputs": [],
   "source": [
    "#Select V_0\n",
    "2.9*((2.5e-5)**2)/((15)**2)"
   ]
  },
  {
   "cell_type": "code",
   "execution_count": 8,
   "metadata": {},
   "outputs": [
    {
     "data": {
      "text/plain": [
       "<matplotlib.legend.Legend at 0x1d075de7e80>"
      ]
     },
     "execution_count": 8,
     "metadata": {},
     "output_type": "execute_result"
    },
    {
     "data": {
      "image/png": "[encoded data removed]",
      "text/plain": [
       "<Figure size 432x288 with 1 Axes>"
      ]
     },
     "metadata": {
      "needs_background": "light"
     },
     "output_type": "display_data"
    }
   ],
   "source": [
    "#consider choices of k\n",
    "h60 = 2.5\n",
    "k = 4/3\n",
    "linechoice = 15\n",
    "\n",
    "phi60 = np.linspace(10, 20, 101)\n",
    "Vzero = [(h60**2)*2/(phi**k) for phi in phi60]\n",
    "Vzero2 = [(h60**2)*3/(phi**k) for phi in phi60]\n",
    "\n",
    "py.plot(phi60, Vzero, label = '$ε = 0$')\n",
    "py.plot(phi60, Vzero2, '--')\n",
    "py.plot(np.linspace(linechoice, linechoice, 11), np.linspace(Vzero[-1], Vzero2[0], 11))\n",
    "py.legend()"
   ]
  },
  {
   "cell_type": "markdown",
   "metadata": {},
   "source": [
    "We scale $H_0 \\rightarrow H_0 \\times 10^5 = \\tilde{H_0}$, $V_0 \\rightarrow V_0 \\times 10^{10} = \\tilde{V_0}$"
   ]
  },
  {
   "cell_type": "code",
   "execution_count": 9,
   "metadata": {},
   "outputs": [
    {
     "name": "stdout",
     "output_type": "stream",
     "text": [
      "n = 1440959\n",
      "ε = 1.0000091755951883\n"
     ]
    },
    {
     "data": {
      "image/png": "[encoded data removed]",
      "text/plain": [
       "<Figure size 432x288 with 1 Axes>"
      ]
     },
     "metadata": {
      "needs_background": "light"
     },
     "output_type": "display_data"
    }
   ],
   "source": [
    "phi, H, n, epsilon = trajectory(0.37, 4/3, 15)\n",
    "py.plot(phi, H, label='H')\n",
    "py.xlabel('ϕ')\n",
    "py.legend()\n",
    "print(\"n =\", n, end = '\\n')\n",
    "print(\"ε =\", epsilon)"
   ]
  },
  {
   "cell_type": "markdown",
   "metadata": {},
   "source": [
    "We had been choosing random initial $\\phi_0$. Now we will check corresponding $N$ values integrate backwards while $N < N_{\\mathrm{start}} \\approx 60$\n",
    "\n",
    "$N = \\frac{1}{2}\\int^{\\phi_N}_{\\phi_0}\\sqrt{\\frac{2}{\\varepsilon}} d\\phi$"
   ]
  },
  {
   "cell_type": "code",
   "execution_count": 10,
   "metadata": {},
   "outputs": [],
   "source": [
    "def tot_traj(Nstart, V_0, k, phi_0 = 10, dphi0 = 0.0001, boundmultiplier = 100, H0 = 2.5e-5, suppress = False):\n",
    "    T = int(phi_0/dphi0)\n",
    "    phiswap, Jswap, n0, epsilon = trajectory(V_0, k, phi_0, dphi0, boundmultiplier, H0, suppress)\n",
    "    phi1, J1 = phiswap[::-1], Jswap[::-1]\n",
    "    N = 0\n",
    "    phi = np.zeros(boundmultiplier*T + 1)\n",
    "    H = np.zeros(boundmultiplier*T + 1)\n",
    "    ε = np.zeros(boundmultiplier*T + 1)\n",
    "    phi[:n0 + 1] = phi1\n",
    "    H[:n0 + 1] = J1\n",
    "    ε[0] = epsilon\n",
    "    n = 0\n",
    "    while (N < Nstart) and (n < n0):\n",
    "        dphi = phi[n+1] - phi[n]\n",
    "        ε[n+1] = epsilon_calc(H[n+1], V_0, phi[n+1], k)\n",
    "        J1 = (2 / ε[n])**0.5\n",
    "        J2 = (2 / ε[n+1])**0.5\n",
    "        N += dphi*(J1 + J2)/4\n",
    "        n += 1\n",
    "    #Space\n",
    "    while (N < Nstart) and (n < boundmultiplier*T):\n",
    "        dphi = min(0.5*(H[n] - ((V_0*(phi[n])**k)*(1/3))**0.5)/(grad_calc(H[n], V_0, phi[n], k)), dphi0)\n",
    "        K1 = grad_calc(H[n], V_0, phi[n], k)\n",
    "        K2 = grad_calc(H[n] + 0.5*dphi*K1, V_0, phi[n] + 0.5*dphi, k)\n",
    "        K3 = grad_calc(H[n] + 0.5*dphi*K2, V_0, phi[n] + 0.5*dphi, k)\n",
    "        K4 = grad_calc(H[n] + dphi*K3, V_0, phi[n] + dphi, k)\n",
    "        grad = (K1 + 2*K2 + 2*K3 + K4)/6\n",
    "        H[n+1] = H[n] + dphi*grad\n",
    "        phi[n+1] = phi[n] + dphi\n",
    "        ε[n+1] = epsilon_calc(H[n+1], V_0, phi[n+1], k)\n",
    "        #SPACE\n",
    "        J1 = (2 / ε[n])**0.5\n",
    "        J2 = (2 / ε[n+1])**0.5\n",
    "        N += dphi*(J1 + J2)/4\n",
    "        n += 1\n",
    "    return phi[:n+1], H[:n+1], n, ε[:n+1], N"
   ]
  },
  {
   "cell_type": "markdown",
   "metadata": {},
   "source": [
    "Inflation should end at $\\varepsilon = 1$ - we will require this later, but for now we shall end inflation at $N = N_{\\mathrm{start}}$"
   ]
  },
  {
   "cell_type": "code",
   "execution_count": 12,
   "metadata": {},
   "outputs": [
    {
     "name": "stdout",
     "output_type": "stream",
     "text": [
      "n = 230135\n",
      "N = 60.000009487592756\n",
      "Full trajectory not available via this method - ε > 1 at n = 144282\n"
     ]
    },
    {
     "data": {
      "image/png": "[encoded data removed]",
      "text/plain": [
       "<Figure size 432x288 with 1 Axes>"
      ]
     },
     "metadata": {
      "needs_background": "light"
     },
     "output_type": "display_data"
    }
   ],
   "source": [
    "phi, H, n, epsilon, N = tot_traj(60, 8e-12, 2, 15, suppress = True)\n",
    "py.plot(phi, H, label='H')\n",
    "#py.plot(phi, epsilon, label='ε')\n",
    "py.xlabel('ϕ')\n",
    "py.legend()\n",
    "print(\"n =\", n, end = '\\n')\n",
    "print(\"N =\", N, end = '\\n')\n",
    "for i, el in enumerate(epsilon):\n",
    "    if el >1 and i>0:\n",
    "        print(\"Full trajectory not available via this method - ε > 1 at n = %s\"%i)\n",
    "        break"
   ]
  },
  {
   "cell_type": "code",
   "execution_count": null,
   "metadata": {},
   "outputs": [],
   "source": []
  }
 ],
 "metadata": {
  "kernelspec": {
   "display_name": "Python 3",
   "language": "python",
   "name": "python3"
  },
  "language_info": {
   "codemirror_mode": {
    "name": "ipython",
    "version": 3
   },
   "file_extension": ".py",
   "mimetype": "text/x-python",
   "name": "python",
   "nbconvert_exporter": "python",
   "pygments_lexer": "ipython3",
   "version": "3.7.3"
  }
 },
 "nbformat": 4,
 "nbformat_minor": 2
}
